{
 "cells": [
  {
   "cell_type": "markdown",
   "id": "4fe081cc-3445-4a77-a234-8fb25151919f",
   "metadata": {
    "jp-MarkdownHeadingCollapsed": true
   },
   "source": [
    "### Assingment 01 "
   ]
  },
  {
   "cell_type": "markdown",
   "id": "70216094-b5ec-408a-b219-46ef31553038",
   "metadata": {},
   "source": [
    "### Question 1. Print Your Name with your Father name and Date of birth using suitable escape sequence charactor?"
   ]
  },
  {
   "cell_type": "code",
   "execution_count": 14,
   "id": "ea9b0c73-907f-4166-9c51-aff152464cdc",
   "metadata": {},
   "outputs": [
    {
     "name": "stdout",
     "output_type": "stream",
     "text": [
      "\n",
      "Name:Muhammad Saleem\n",
      "s/o Muhammad haji\n",
      "DoB 01/Feb/1995\n"
     ]
    }
   ],
   "source": [
    "print ( \"\\nName:Muhammad Saleem\\ns/o Muhammad haji\\nDoB 01/Feb/1995\")"
   ]
  },
  {
   "cell_type": "markdown",
   "id": "e786e676-4af1-4765-aa57-c87884049918",
   "metadata": {},
   "source": [
    "### Question 2. Write your small bio using variables and print it using print function?"
   ]
  },
  {
   "cell_type": "code",
   "execution_count": 18,
   "id": "6d89ecd7-3bf8-4ec7-8df0-ee014e85b1a7",
   "metadata": {},
   "outputs": [
    {
     "name": "stdout",
     "output_type": "stream",
     "text": [
      "Name:\t\tMuhammad Saleem\n",
      "Father's Name:\tMuhammad Haji\n",
      "Date of Birth:\t01/Feb/1995\n",
      "\n",
      "Bio:\n",
      "student of saylani welfare,course python programming batch 03\n"
     ]
    }
   ],
   "source": [
    "name = \"Muhammad Saleem\"\n",
    "father_name = \"Muhammad Haji\"\n",
    "date_of_birth = \"01/Feb/1995\"\n",
    "bio = \"student of saylani welfare,course python programming batch 03\"\n",
    "print(f\"Name:\\t\\t{name}\")\n",
    "print(f\"Father's Name:\\t{father_name}\")\n",
    "print(f\"Date of Birth:\\t{date_of_birth}\")\n",
    "print(\"\\nBio:\")\n",
    "print(bio)\n"
   ]
  },
  {
   "cell_type": "markdown",
   "id": "3a4b1ce6-d403-4d42-a7e5-78e384cc17f9",
   "metadata": {},
   "source": [
    "### Question 3.Write a program in which use all the operators we can use in Python?"
   ]
  },
  {
   "cell_type": "code",
   "execution_count": 19,
   "id": "2551867d-4092-43f9-a516-3fd7118d3971",
   "metadata": {},
   "outputs": [
    {
     "name": "stdout",
     "output_type": "stream",
     "text": [
      "Arithmetic Operators\n",
      "a + b = 6\n",
      "a - b = -2\n",
      "a * b = 8\n",
      "a / b = 0.5\n",
      "a % b = 2\n",
      "a ** b = 16\n",
      "a // b = 0\n",
      "\n",
      "Comparison Operators\n",
      "a == b: False\n",
      "a != b: True\n",
      "a > b: False\n",
      "a < b: True\n",
      "a >= b: False\n",
      "a <= b: True\n",
      "\n",
      "Logical Operators\n",
      "x and y: False\n",
      "x or y: True\n",
      "not x: False\n",
      "\n",
      "Bitwise Operators\n",
      "c & d = 2\n",
      "c | d = 6\n",
      "c ^ d = 4\n",
      "~c = -7\n",
      "c << 1 = 12\n",
      "c >> 1 = 3\n",
      "\n",
      "Assignment Operators\n",
      "e += 1 -> 6\n",
      "e -= 2 -> 4\n",
      "e *= 3 -> 12\n",
      "e /= 2 -> 6.0\n",
      "e %= 3 -> 0.0\n",
      "e **= 2 -> 0.0\n",
      "e //= 2 -> 0.0\n",
      "\n",
      "Membership Operators\n",
      "3 in my_list: True\n",
      "6 not in my_list: True\n",
      "\n",
      "Identity Operators\n",
      "f is g: False\n",
      "f is h: True\n",
      "f is not g: True\n",
      "f == g: True\n"
     ]
    }
   ],
   "source": [
    "# Arithmetic Operators\n",
    "a = 2\n",
    "b = 4\n",
    "\n",
    "print(\"Arithmetic Operators\")\n",
    "print(f\"a + b = {a + b}\")   # Addition\n",
    "print(f\"a - b = {a - b}\")   # Subtraction\n",
    "print(f\"a * b = {a * b}\")   # Multiplication\n",
    "print(f\"a / b = {a / b}\")   # Division\n",
    "print(f\"a % b = {a % b}\")   # Modulus\n",
    "print(f\"a ** b = {a ** b}\") # Exponentiation\n",
    "print(f\"a // b = {a // b}\") # Floor Division\n",
    "\n",
    "# Comparison Operators\n",
    "print(\"\\nComparison Operators\")\n",
    "print(f\"a == b: {a == b}\")   # Equal\n",
    "print(f\"a != b: {a != b}\")   # Not equal\n",
    "print(f\"a > b: {a > b}\")     # Greater than\n",
    "print(f\"a < b: {a < b}\")     # Less than\n",
    "print(f\"a >= b: {a >= b}\")   # Greater than or equal to\n",
    "print(f\"a <= b: {a <= b}\")   # Less than or equal to\n",
    "\n",
    "# Logical Operators\n",
    "x = True\n",
    "y = False\n",
    "\n",
    "print(\"\\nLogical Operators\")\n",
    "print(f\"x and y: {x and y}\") # Logical AND\n",
    "print(f\"x or y: {x or y}\")   # Logical OR\n",
    "print(f\"not x: {not x}\")     # Logical NOT\n",
    "\n",
    "# Bitwise Operators\n",
    "c = 6   # Binary: 110\n",
    "d = 2   # Binary: 010\n",
    "\n",
    "print(\"\\nBitwise Operators\")\n",
    "print(f\"c & d = {c & d}\")   # AND\n",
    "print(f\"c | d = {c | d}\")   # OR\n",
    "print(f\"c ^ d = {c ^ d}\")   # XOR\n",
    "print(f\"~c = {~c}\")         # NOT\n",
    "print(f\"c << 1 = {c << 1}\") # Left shift\n",
    "print(f\"c >> 1 = {c >> 1}\") # Right shift\n",
    "\n",
    "# Assignment Operators\n",
    "e = 5\n",
    "print(\"\\nAssignment Operators\")\n",
    "e += 1\n",
    "print(f\"e += 1 -> {e}\")\n",
    "e -= 2\n",
    "print(f\"e -= 2 -> {e}\")\n",
    "e *= 3\n",
    "print(f\"e *= 3 -> {e}\")\n",
    "e /= 2\n",
    "print(f\"e /= 2 -> {e}\")\n",
    "e %= 3\n",
    "print(f\"e %= 3 -> {e}\")\n",
    "e **= 2\n",
    "print(f\"e **= 2 -> {e}\")\n",
    "e //= 2\n",
    "print(f\"e //= 2 -> {e}\")\n",
    "\n",
    "# Membership Operators\n",
    "my_list = [1, 2, 3, 4, 5]\n",
    "print(\"\\nMembership Operators\")\n",
    "print(f\"3 in my_list: {3 in my_list}\")    # in\n",
    "print(f\"6 not in my_list: {6 not in my_list}\") # not in\n",
    "\n",
    "# Identity Operators\n",
    "f = [1, 2, 3]\n",
    "g = [1, 2, 3]\n",
    "h = f\n",
    "\n",
    "print(\"\\nIdentity Operators\")\n",
    "print(f\"f is g: {f is g}\")   # is\n",
    "print(f\"f is h: {f is h}\")   # is\n",
    "print(f\"f is not g: {f is not g}\") # is not\n",
    "print(f\"f == g: {f == g}\")   # Equal\n"
   ]
  },
  {
   "cell_type": "markdown",
   "id": "2544975b-1ce2-4d82-8851-c001573c00ac",
   "metadata": {},
   "source": [
    "### Question 4.Completes the following steps of small task:\n",
    "* Mention Marks of English , Islamiat and Maths out of 100 in 3 different variables\n",
    "* Mention Variable of Total Marks and assign 300 to it\n",
    "* Calculate Percent?"
   ]
  },
  {
   "cell_type": "code",
   "execution_count": 22,
   "id": "817242ca-5951-48c0-b70c-a8c7d6fd84c7",
   "metadata": {},
   "outputs": [
    {
     "name": "stdout",
     "output_type": "stream",
     "text": [
      "Marks in English: 60\n",
      "Marks in Islamiat: 50\n",
      "Marks in Maths: 99\n",
      "Total Marks: 300\n",
      "Obtained Marks: 209\n",
      "Percentage: 6.966666666666667%\n"
     ]
    }
   ],
   "source": [
    "marks_english = 60\n",
    "marks_islamiat = 50\n",
    "marks_maths = 99\n",
    "total_marks = 300\n",
    "obtained_marks = marks_english + marks_islamiat + marks_maths\n",
    "percentage = (obtained_marks / total_marks) * 10\n",
    "\n",
    "print(f\"Marks in English: {marks_english}\")\n",
    "print(f\"Marks in Islamiat: {marks_islamiat}\")\n",
    "print(f\"Marks in Maths: {marks_maths}\")\n",
    "print(f\"Total Marks: {total_marks}\")\n",
    "print(f\"Obtained Marks: {obtained_marks}\")\n",
    "print(f\"Percentage: {percentage}%\")\n",
    "\n"
   ]
  },
  {
   "cell_type": "markdown",
   "id": "a90fb935-dc6a-46ad-b5c8-949a5670259e",
   "metadata": {},
   "source": [
    "### Question 5. A company decided to give bonus of 5% to employee if his/her year of service is more than 5 years. Ask user for their salary and year of service and print the net bonus amount."
   ]
  },
  {
   "cell_type": "code",
   "execution_count": 26,
   "id": "e4abee54-7af9-49bc-ac8d-57ce9d9457d2",
   "metadata": {},
   "outputs": [
    {
     "name": "stdout",
     "output_type": "stream",
     "text": [
      "Enter your salary:  35000\n",
      "Enter your years of service:  5\n"
     ]
    },
    {
     "name": "stdout",
     "output_type": "stream",
     "text": [
      "Net bonus amount: 0\n"
     ]
    }
   ],
   "source": [
    "salary = float(input(\"Enter your salary: \"))\n",
    "years_of_service = int(input(\"Enter your years of service: \"))\n",
    "bonus_percentage = 5\n",
    "if years_of_service > 5:\n",
    "    bonus_amount = (bonus_percentage / 100) * salary\n",
    "else:\n",
    "    bonus_amount = 0\n",
    "print(f\"Net bonus amount: {bonus_amount}\")\n"
   ]
  },
  {
   "cell_type": "markdown",
   "id": "b27d0551-eb78-4b41-91f4-7ab2f94f8321",
   "metadata": {},
   "source": [
    "### Question 6. Write a program to check whether a person is eligible for voting or not. (accept age from user) if age is greater than 17 eligible otherwise not eligible"
   ]
  },
  {
   "cell_type": "code",
   "execution_count": 27,
   "id": "59d3dbea-5e74-49f3-900e-1684608520ac",
   "metadata": {},
   "outputs": [
    {
     "name": "stdout",
     "output_type": "stream",
     "text": [
      "Enter your age:  19\n"
     ]
    },
    {
     "name": "stdout",
     "output_type": "stream",
     "text": [
      "You are eligible for voting.\n"
     ]
    }
   ],
   "source": [
    "age = int(input(\"Enter your age: \"))\n",
    "if age >= 18:\n",
    "    print(\"You are eligible for voting.\")\n",
    "else:\n",
    "    print(\"You are not eligible for voting.\")\n"
   ]
  },
  {
   "cell_type": "markdown",
   "id": "451eba30-51cd-48ad-966c-bedca41a626c",
   "metadata": {},
   "source": [
    "### Question 7.Write a program to check whether a number entered by user is even or odd."
   ]
  },
  {
   "cell_type": "code",
   "execution_count": 29,
   "id": "f0927e8c-c082-4382-848d-f1b186453a3f",
   "metadata": {},
   "outputs": [
    {
     "name": "stdout",
     "output_type": "stream",
     "text": [
      "Enter a number:  2\n"
     ]
    },
    {
     "name": "stdout",
     "output_type": "stream",
     "text": [
      "The number 2 is even.\n"
     ]
    }
   ],
   "source": [
    "number = int(input(\"Enter a number: \"))\n",
    "if number % 2 == 0:\n",
    "    print(f\"The number {number} is even.\")\n",
    "else:\n",
    "    print(f\"The number {number} is odd.\")\n"
   ]
  },
  {
   "cell_type": "markdown",
   "id": "25e96b5a-1f73-4875-8076-df1d4cffdec4",
   "metadata": {},
   "source": [
    "### Question 8. Write a program to check whether a number is divisible by 7 or not. Show Answer?"
   ]
  },
  {
   "cell_type": "code",
   "execution_count": 31,
   "id": "19492742-1f67-44cb-92c5-4826b106e046",
   "metadata": {},
   "outputs": [
    {
     "name": "stdout",
     "output_type": "stream",
     "text": [
      "Enter a number:  6\n"
     ]
    },
    {
     "name": "stdout",
     "output_type": "stream",
     "text": [
      "The number 6 is not divisible by 7.\n"
     ]
    }
   ],
   "source": [
    "number = int(input(\"Enter a number: \"))\n",
    "if number % 7 == 0:\n",
    "    print(f\"The number {number} is divisible by 7.\")\n",
    "else:\n",
    "    print(f\"The number {number} is not divisible by 7.\")\n"
   ]
  },
  {
   "cell_type": "markdown",
   "id": "2b2dae66-6c37-49b5-8df1-2ed06db04fb4",
   "metadata": {},
   "source": [
    "### Question 9.Write a program to display \"Hello\" if a number entered by user is a multiple of five , otherwise print \"Bye\"."
   ]
  },
  {
   "cell_type": "code",
   "execution_count": 33,
   "id": "10a85831-142d-40e1-bdcc-ce49783f958f",
   "metadata": {},
   "outputs": [
    {
     "name": "stdout",
     "output_type": "stream",
     "text": [
      "Enter a number:  8\n"
     ]
    },
    {
     "name": "stdout",
     "output_type": "stream",
     "text": [
      "Bye\n"
     ]
    }
   ],
   "source": [
    "number = int(input(\"Enter a number: \"))\n",
    "if number % 5 == 0:\n",
    "    print(\"Hello\")\n",
    "else:\n",
    "    print(\"Bye\")\n"
   ]
  },
  {
   "cell_type": "markdown",
   "id": "c3405af9-027b-4e89-943a-3e379325340c",
   "metadata": {},
   "source": [
    "### Question 10. Write a program to display the last digit of a number."
   ]
  },
  {
   "cell_type": "code",
   "execution_count": 35,
   "id": "5feae4e9-b0e4-4734-be74-68a1c8d95cb7",
   "metadata": {},
   "outputs": [
    {
     "name": "stdout",
     "output_type": "stream",
     "text": [
      "enter your num 15\n"
     ]
    },
    {
     "name": "stdout",
     "output_type": "stream",
     "text": [
      "your last digit is:5\n"
     ]
    }
   ],
   "source": [
    "def get_digit(num):\n",
    "    return num % 10\n",
    "num = int(input(\"enter your num\"))\n",
    "last_digit = get_digit(num)\n",
    "print(f\"your last digit is:{last_digit}\")"
   ]
  },
  {
   "cell_type": "markdown",
   "id": "5b867053-ba82-4b34-a085-35d678c97d9b",
   "metadata": {},
   "source": [
    "### Qusestion 11.Take values of length and breadth of a rectangle from user and print if it is square or rectangle."
   ]
  },
  {
   "cell_type": "code",
   "execution_count": 37,
   "id": "68bab04f-104c-482a-8ab6-1ace5089d167",
   "metadata": {},
   "outputs": [
    {
     "name": "stdout",
     "output_type": "stream",
     "text": [
      "enter length of shape 6\n",
      "enter your width 3\n"
     ]
    },
    {
     "name": "stdout",
     "output_type": "stream",
     "text": [
      "its rectangle\n"
     ]
    }
   ],
   "source": [
    "length = int(input(\"enter length of shape\"))\n",
    "width = int(input(\"enter your width\"))\n",
    "if (length == width):\n",
    "    print(\"its square\")\n",
    "else:\n",
    "    print(\"its rectangle\")"
   ]
  },
  {
   "cell_type": "markdown",
   "id": "b74b46da-a2d2-415f-8731-83dd0b356a32",
   "metadata": {},
   "source": [
    "### Question 11.Take two int values from user and print greatest among them.?\n"
   ]
  },
  {
   "cell_type": "code",
   "execution_count": 38,
   "id": "af77f64b-0fb1-4d8c-97ee-207950810d19",
   "metadata": {},
   "outputs": [
    {
     "name": "stdout",
     "output_type": "stream",
     "text": [
      "enter your num1 3\n",
      "enter you num2 6\n"
     ]
    },
    {
     "name": "stdout",
     "output_type": "stream",
     "text": [
      "value 2 is greater\n"
     ]
    }
   ],
   "source": [
    "value1 = int(input(\"enter your num1\"))\n",
    "value2 = int(input(\"enter you num2\"))\n",
    "if (value1 > value2):\n",
    "    print(\"value 1 is greater\")\n",
    "else:\n",
    "    print(\"value 2 is greater\")\n",
    "    "
   ]
  },
  {
   "cell_type": "markdown",
   "id": "ffb0ce38-9953-4d2f-ac90-97f136c95d67",
   "metadata": {},
   "source": [
    "#### Question 12.A shop will give discount of 10% if the cost of purchased quantity is more than 1000. Ask user for quantity Suppose, one unit will cost 100. Judge and print total cost for user."
   ]
  },
  {
   "cell_type": "code",
   "execution_count": 41,
   "id": "f1cbc925-c9f3-4301-9516-89b8e93a41d5",
   "metadata": {},
   "outputs": [
    {
     "name": "stdout",
     "output_type": "stream",
     "text": [
      "enter your quantity of shopping 340\n"
     ]
    },
    {
     "name": "stdout",
     "output_type": "stream",
     "text": [
      "you got 3400.0\n"
     ]
    }
   ],
   "source": [
    "quantity = int(input(\"enter your quantity of shopping\"))\n",
    "total_price = quantity * 100\n",
    "discount = (total_price * .1)\n",
    "if total_price>1000:\n",
    "    print(f\"you got {discount}\")\n",
    "else:\n",
    "    print(\"no discount\")"
   ]
  },
  {
   "cell_type": "markdown",
   "id": "a1964927-c50a-44c1-b3a9-a85d9589ea09",
   "metadata": {},
   "source": [
    "### Question 13. A school has following rules for grading system:\n",
    "a. Below 25 - F\n",
    "\n",
    "b. 25 to 45 - E\n",
    "\n",
    "c. 45 to 50 - D\n",
    "\n",
    "d. 50 to 60 - C\n",
    "\n",
    "e. 60 to 80 - B\n",
    "\n",
    "f. Above 80 - A\n",
    "\n",
    "Ask user to enter marks and print the corresponding grade."
   ]
  },
  {
   "cell_type": "code",
   "execution_count": 42,
   "id": "151ef42e-a9d3-4781-9ae0-a9faa0899968",
   "metadata": {},
   "outputs": [
    {
     "name": "stdout",
     "output_type": "stream",
     "text": [
      "Enter your Marks 40\n"
     ]
    },
    {
     "name": "stdout",
     "output_type": "stream",
     "text": [
      "your grade is :E\n"
     ]
    }
   ],
   "source": [
    "marks= int(input(\"Enter your Marks\"))\n",
    "if marks<25:\n",
    "    grade = \"F\"\n",
    "elif marks<45:\n",
    "    grade = \"E\"\n",
    "elif marks <50:\n",
    "    grade = \"D\"\n",
    "elif marks<60:\n",
    "    grade = \"C\"\n",
    "elif marks<80:\n",
    "    grade = \"B\"\n",
    "else:\n",
    "    grade = \"A\"\n",
    "print(f\"your grade is :{grade}\")"
   ]
  },
  {
   "cell_type": "markdown",
   "id": "f9964b1b-37dd-4e0e-8d55-16d4f8af6a85",
   "metadata": {},
   "source": [
    "### Question 14.A student will not be allowed to sit in exam if his/her attendence is less than 75%.\n",
    "* Take following input from use\n",
    "* Number of classes he\n",
    "\n",
    "Number of classes atten* ded.\n",
    "\n",
    "And*  print\n",
    "\n",
    "percentage of class attended\n",
    "\n",
    "Is student is allowed to sit in exam or not."
   ]
  },
  {
   "cell_type": "code",
   "execution_count": 43,
   "id": "35ff3f84-2607-43c8-938a-5c8dbb0ce44d",
   "metadata": {},
   "outputs": [
    {
     "name": "stdout",
     "output_type": "stream",
     "text": [
      "Enter the total num of classes 4\n",
      "Enter you attended classes 3\n"
     ]
    },
    {
     "name": "stdout",
     "output_type": "stream",
     "text": [
      "your attendance percentage is 75.0%\n",
      "you can sit in you exams\n"
     ]
    }
   ],
   "source": [
    "total_classes = int(input(\"Enter the total num of classes\"))\n",
    "attended_classes = int(input(\"Enter you attended classes\"))\n",
    "percentage_of_attendance = ((attended_classes/total_classes)*100)\n",
    "print(f\"your attendance percentage is {percentage_of_attendance}%\")\n",
    "if percentage_of_attendance<75:\n",
    "    print(\"You are not allowed to sit in exams\")\n",
    "else:\n",
    "    print(\"you can sit in you exams\")"
   ]
  },
  {
   "cell_type": "markdown",
   "id": "634be3cc-65ef-4226-b2a8-838f4f521fbb",
   "metadata": {},
   "source": [
    "### Question 15.Write a program to check if a year is leap year or not.\n",
    "* \n",
    "If a year is divisible by 4 then it is leap year but if the year is century year like 2000, 1900, 2100 then it must b\n",
    "*  divisible by 400."
   ]
  },
  {
   "cell_type": "code",
   "execution_count": 46,
   "id": "ff84cc0e-31b1-4fb5-851b-83a9d7a3410b",
   "metadata": {},
   "outputs": [
    {
     "name": "stdout",
     "output_type": "stream",
     "text": [
      "Enter your year 4\n"
     ]
    },
    {
     "name": "stdout",
     "output_type": "stream",
     "text": [
      "its a leap year\n"
     ]
    }
   ],
   "source": [
    "year = int(input(\"Enter your year\"))\n",
    "if year %4 ==0:\n",
    "    print(\"its a leap year\")\n",
    "elif year %400 == 0:\n",
    "    print(\"its a leap year\")\n",
    "else:\n",
    "    print(\"its not a leap year\")"
   ]
  },
  {
   "cell_type": "markdown",
   "id": "792b86d7-ccbf-4e9f-87f8-bac195b5139d",
   "metadata": {},
   "source": [
    "### Question 16.Ask user to enter age, gender ( M or F ), marital status ( Y or N ) and then using following rules print their place of service.\n",
    "* \n",
    "if employee is female, then she will work only in urban areas\n",
    "* \n",
    "\n",
    "if employee is a male and age is in between 20 to 40 then he may work in anywhr* e\n",
    "\n",
    "if employee is male and age is in between 40 t0 60 then he will work in urban areas n* ly.\n",
    "\n",
    "And any other input of age should print \"ERROR\""
   ]
  },
  {
   "cell_type": "code",
   "execution_count": 47,
   "id": "9ee5c40a-3ef1-423f-9023-816deb087687",
   "metadata": {},
   "outputs": [
    {
     "name": "stdout",
     "output_type": "stream",
     "text": [
      "Enter your gender (M/F) m\n",
      "Enter your Age 29\n"
     ]
    },
    {
     "name": "stdout",
     "output_type": "stream",
     "text": [
      "place of service is :anywhere\n"
     ]
    }
   ],
   "source": [
    "gender = str(input(\"Enter your gender (M/F)\")).upper()\n",
    "# Status = str(input(\"Enter your Marital status(Married/Unmarried)\"))\n",
    "Age = int(input(\"Enter your Age\"))\n",
    "\n",
    "if gender == \"F\":\n",
    "    place_of_service = \"only urban areas\"\n",
    "elif gender ==\"M\":\n",
    "    if 20<= Age <=40:\n",
    "        place_of_service = \"anywhere\"\n",
    "    elif 40< Age <= 60:\n",
    "        place_of_service = \"Urban areas only\"\n",
    "    else:\n",
    "        place_of_service= \"ERROR\"\n",
    "else:\n",
    "    place_of_service = \"ERROR\"\n",
    "print(f\"place of service is :{place_of_service}\")"
   ]
  },
  {
   "cell_type": "markdown",
   "id": "a5437944-511a-4e3c-b905-732bf9ccdc7b",
   "metadata": {},
   "source": [
    "### Question 17. Write a program to calculate the electricity bill (accept number of unit from user) according to the following criteria : Unit Price uptp 100 units no charge Next 200 units Rs 5 per unit After 200 units Rs 10 per unit (For example if input unit is 350 than total bill amount is Rs.3500 (For example if input unit is 97 than total bill amount is Rs.0 (For example if input unit is 150 than total bill amount is Rs.750"
   ]
  },
  {
   "cell_type": "code",
   "execution_count": 49,
   "id": "be2dfd66-b0d0-475a-93f2-376a56b657dd",
   "metadata": {},
   "outputs": [
    {
     "name": "stdout",
     "output_type": "stream",
     "text": [
      "Enter the units of electricity 200\n"
     ]
    },
    {
     "name": "stdout",
     "output_type": "stream",
     "text": [
      "your electricity bill is :1000\n"
     ]
    }
   ],
   "source": [
    "units_of_electricity = int(input(\"Enter the units of electricity\"))\n",
    "if units_of_electricity <= 100:\n",
    "    bill =  0\n",
    "elif units_of_electricity <= 200:\n",
    "    bill = (units_of_electricity*5)\n",
    "else:\n",
    "    bill  =units_of_electricity *10\n",
    "\n",
    "print(f\"your electricity bill is :{bill}\")\n"
   ]
  },
  {
   "cell_type": "markdown",
   "id": "589a23ee-43c9-43b4-99ad-97790e2ee747",
   "metadata": {},
   "source": [
    "### Question 19.Take input of age of 3 people by user and determine oldest and youngest among them?"
   ]
  },
  {
   "cell_type": "code",
   "execution_count": 50,
   "id": "30cc9d42-ca6d-43e6-90d6-048de6afdf3a",
   "metadata": {},
   "outputs": [
    {
     "name": "stdout",
     "output_type": "stream",
     "text": [
      "ENter your age 29\n",
      "ENter your age 26\n",
      "ENter your age 45\n"
     ]
    },
    {
     "name": "stdout",
     "output_type": "stream",
     "text": [
      "the oldest person is :45\n",
      "the yougest person is :26\n"
     ]
    }
   ],
   "source": [
    "person1 = int(input(\"ENter your age\"))\n",
    "person2 = int(input(\"ENter your age\"))\n",
    "person3 = int(input(\"ENter your age\"))\n",
    "\n",
    "oldest = max(person1,person2,person3)\n",
    "youngest = min(person1,person2,person3)\n",
    "\n",
    "print(f\"the oldest person is :{oldest}\")\n",
    "print(f\"the yougest person is :{youngest}\")"
   ]
  },
  {
   "cell_type": "code",
   "execution_count": null,
   "id": "ceca3e93-88d9-429b-a62c-d3e2ad262c00",
   "metadata": {},
   "outputs": [],
   "source": []
  },
  {
   "cell_type": "code",
   "execution_count": null,
   "id": "e3042bc1-50a3-4cda-8c5f-3dfda8213ebb",
   "metadata": {},
   "outputs": [],
   "source": []
  }
 ],
 "metadata": {
  "kernelspec": {
   "display_name": "Python 3 (ipykernel)",
   "language": "python",
   "name": "python3"
  },
  "language_info": {
   "codemirror_mode": {
    "name": "ipython",
    "version": 3
   },
   "file_extension": ".py",
   "mimetype": "text/x-python",
   "name": "python",
   "nbconvert_exporter": "python",
   "pygments_lexer": "ipython3",
   "version": "3.11.7"
  }
 },
 "nbformat": 4,
 "nbformat_minor": 5
}
