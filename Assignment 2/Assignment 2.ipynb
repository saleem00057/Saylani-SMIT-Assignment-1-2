{
 "cells": [
  {
   "cell_type": "markdown",
   "id": "586a01e4-62e1-44ac-9c62-ed111da8014f",
   "metadata": {},
   "source": [
    "## Assignment 2\n"
   ]
  },
  {
   "cell_type": "markdown",
   "id": "84d52a1f-5b31-46af-8fba-e781e95956fe",
   "metadata": {},
   "source": [
    "### Scenario 1: Grocery Shopping List You are creating a program to manage a grocery shopping list. Users should be able to add items, remove items, and display the current list?"
   ]
  },
  {
   "cell_type": "code",
   "execution_count": 2,
   "id": "7be3718c-9013-43c9-a5ef-c09aa576151b",
   "metadata": {},
   "outputs": [
    {
     "name": "stdout",
     "output_type": "stream",
     "text": [
      "Grocery Shopping List Manager\n",
      "1. Add items\n",
      "2. Remove items\n",
      "3. Display items\n",
      "4. Exit\n"
     ]
    },
    {
     "name": "stdin",
     "output_type": "stream",
     "text": [
      "Enter your choice 1,2,3,4 : 1\n",
      "Enter your items  : Daal\n"
     ]
    },
    {
     "name": "stdout",
     "output_type": "stream",
     "text": [
      "Daal is added in your shopping list\n",
      "Grocery Shopping List Manager\n",
      "1. Add items\n",
      "2. Remove items\n",
      "3. Display items\n",
      "4. Exit\n"
     ]
    },
    {
     "name": "stdin",
     "output_type": "stream",
     "text": [
      "Enter your choice 1,2,3,4 : 2\n",
      "Enter your items to remove  : Daal\n"
     ]
    },
    {
     "name": "stdout",
     "output_type": "stream",
     "text": [
      "Daal has been removed from your list\n",
      "Grocery Shopping List Manager\n",
      "1. Add items\n",
      "2. Remove items\n",
      "3. Display items\n",
      "4. Exit\n"
     ]
    },
    {
     "name": "stdin",
     "output_type": "stream",
     "text": [
      "Enter your choice 1,2,3,4 : 1\n",
      "Enter your items  : Ghee\n"
     ]
    },
    {
     "name": "stdout",
     "output_type": "stream",
     "text": [
      "Ghee is added in your shopping list\n",
      "Grocery Shopping List Manager\n",
      "1. Add items\n",
      "2. Remove items\n",
      "3. Display items\n",
      "4. Exit\n"
     ]
    },
    {
     "name": "stdin",
     "output_type": "stream",
     "text": [
      "Enter your choice 1,2,3,4 : 1\n",
      "Enter your items  : Masala\n"
     ]
    },
    {
     "name": "stdout",
     "output_type": "stream",
     "text": [
      "Masala is added in your shopping list\n",
      "Grocery Shopping List Manager\n",
      "1. Add items\n",
      "2. Remove items\n",
      "3. Display items\n",
      "4. Exit\n"
     ]
    },
    {
     "name": "stdin",
     "output_type": "stream",
     "text": [
      "Enter your choice 1,2,3,4 : 3\n"
     ]
    },
    {
     "name": "stdout",
     "output_type": "stream",
     "text": [
      "your shopping list added\n",
      "Ghee\n",
      "Masala\n",
      "Grocery Shopping List Manager\n",
      "1. Add items\n",
      "2. Remove items\n",
      "3. Display items\n",
      "4. Exit\n"
     ]
    },
    {
     "name": "stdin",
     "output_type": "stream",
     "text": [
      "Enter your choice 1,2,3,4 : 4\n"
     ]
    },
    {
     "name": "stdout",
     "output_type": "stream",
     "text": [
      "Exiting\n"
     ]
    }
   ],
   "source": [
    "def add_items(shopping_list,item):\n",
    "    if item not in shopping_list:\n",
    "        shopping_list.append(item)\n",
    "        print(f\"{item} is added in your shopping list\")\n",
    "    else:\n",
    "        print(f\"Sorry {item} already available in list\")\n",
    "def remove_item(shopping_list,item):\n",
    "    if item in shopping_list:\n",
    "        shopping_list.remove(item)\n",
    "        print(f\"{item} has been removed from your list\")\n",
    "    else:\n",
    "        print(f\"{item} not available in list\")\n",
    "\n",
    "def show_list(shopping_list):\n",
    "    if shopping_list:\n",
    "        print(\"your shopping list added\")\n",
    "        for item in shopping_list:\n",
    "            print(f\"{item}\")\n",
    "\n",
    "def main():\n",
    "    shopping_list =[]\n",
    "\n",
    "    while True:\n",
    "        print(\"Grocery Shopping List Manager\")\n",
    "        print(\"1. Add items\")\n",
    "        print(\"2. Remove items\")\n",
    "        print(\"3. Display items\")\n",
    "        print(\"4. Exit\")\n",
    "\n",
    "        choice = int(input(\"Enter your choice 1,2,3,4 :\"))\n",
    "        if choice == 1:\n",
    "            item = input(\"Enter your items  :\")\n",
    "            add_items(shopping_list,item)\n",
    "        elif choice == 2:\n",
    "            item = input(\"Enter your items to remove  :\")\n",
    "            remove_item(shopping_list,item)\n",
    "        elif choice== 3:\n",
    "            show_list(shopping_list)\n",
    "        elif choice == 4:\n",
    "            print(\"Exiting\")\n",
    "            break\n",
    "        else:\n",
    "            print(\"invalid choice .please enter only 1 to 4\")\n",
    "\n",
    "\n",
    "main()"
   ]
  },
  {
   "cell_type": "markdown",
   "id": "426d8e85-332c-404f-a4a2-d9cd273f2e0d",
   "metadata": {},
   "source": [
    "### Scenario 2: Student Grades You are managing student grades using a dictionary. You need to calculate the average grade.take atleast 5 Students grades & then calculate the average?"
   ]
  },
  {
   "cell_type": "code",
   "execution_count": 6,
   "id": "ebe3e40a-c6ab-44ca-9340-be7d0c0f49e7",
   "metadata": {},
   "outputs": [
    {
     "name": "stdout",
     "output_type": "stream",
     "text": [
      "Total_marks of Students: 429.88\n",
      "Total_students : 5\n",
      "Average_marks:  85.976 %\n"
     ]
    }
   ],
   "source": [
    "students = {\n",
    "    \"Ali's grades in math\" : 80,\n",
    "    \"Affan's grades in computer studies\" : 98,\n",
    "    \"Maryam's grades in physics\" : 94,\n",
    "    \"Saleem's grades in english\" : 78.54,\n",
    "    \"Zafar's grades in biology\" : 79.34\n",
    "}\n",
    "Total_marks = sum(students.values())\n",
    "Total_students = len(students)\n",
    "Average = Total_marks / Total_students\n",
    "\n",
    "print(\"Total_marks of Students:\",Total_marks)\n",
    "print(\"Total_students :\", Total_students)\n",
    "print(\"Average_marks: \",Average,\"%\")"
   ]
  },
  {
   "cell_type": "markdown",
   "id": "b7f241f7-2c61-4b8c-a4bd-3c3b3f49ab0d",
   "metadata": {},
   "source": [
    "### Scenario 3: Word Frequency Counter You are given a list of words, and you need to count the frequency of each word? \n",
    "word_list = [\"apple\", \"banana\", \"apple\", \"orange\", \"banana\", \"grape\", \"apple\"]"
   ]
  },
  {
   "cell_type": "code",
   "execution_count": 8,
   "id": "5b5a19ee-4b94-4935-ba97-a4ffa897b92d",
   "metadata": {},
   "outputs": [
    {
     "name": "stdout",
     "output_type": "stream",
     "text": [
      "{'apple': 3, 'banana': 2, 'orange': 1, 'grape': 1}\n"
     ]
    }
   ],
   "source": [
    "word_list = [\"apple\", \"banana\", \"apple\", \"orange\", \"banana\", \"grape\", \"apple\"]\n",
    "frequency_counter = {}\n",
    "for item in word_list: \n",
    "    if item in frequency_counter: \n",
    "        frequency_counter[item] += 1\n",
    "    else:\n",
    "        frequency_counter[item] = 1\n",
    "\n",
    "print(frequency_counter)"
   ]
  },
  {
   "cell_type": "markdown",
   "id": "a89e69a9-ef3a-441f-8fc3-bff35a8d7157",
   "metadata": {},
   "source": [
    "### Scenario 3: Password Strength Checker You are creating a program to check the strength of passwords based on certain criteria?\r",
    "* Password should be at least 8 characters long.\n",
    "* Password should contain at least one digit.\n",
    "* \n",
    "Password should contain at least upper lette.r"
   ]
  },
  {
   "cell_type": "code",
   "execution_count": 10,
   "id": "bd771e2e-dc0f-4de6-92da-2ce382d091d3",
   "metadata": {},
   "outputs": [
    {
     "name": "stdin",
     "output_type": "stream",
     "text": [
      "Enter a password: Saleem57\n"
     ]
    },
    {
     "name": "stdout",
     "output_type": "stream",
     "text": [
      "Password is Valid.\n"
     ]
    }
   ],
   "source": [
    "password = input(\"Enter a password:\")\n",
    "if len(password) < 8:\n",
    "    print(\"The password must be at least eight characters long.\")\n",
    "if not any(char.isdigit() for char in password):\n",
    "    print(\"It must contain at least one numeric digit.\")\n",
    "if not any(char.isupper() for char in password):\n",
    "    print(\"It must contain at least one upper letter.\")    \n",
    "else:\n",
    "    print(\"Password is Valid.\")"
   ]
  },
  {
   "cell_type": "markdown",
   "id": "8afd0ba6-1743-42f3-b135-69af93316c83",
   "metadata": {},
   "source": [
    "### Scenario 04: Voting System (Annual Employee Recognition Awards)\r\n",
    "You are developing a simple voting system for a contest. Users can vote for their Favorite option, and you need to count the votes. In a corporate setting, the HR department is organizing the Annual Employee Recognition Awards, where employees get the opportunity to vote for their colleagues nominated in different categories. The HR team has decided to use a simple voting system to collect and tally votes for the nominees in various award categories. The script provided will be utilized for this purpose. Candidates: The nominees for different award categories, such as \"Employee of the Year,\" \"Team Player of the Year,\" and \"Innovation Award,\" are represented by the list of candidates: 'Candidate A,' 'Candidate B,' and 'Candidate C.' Voting Process: Employees are requested to input the number of voters participating in the awards. Each voter is presented with a list of nominees, and they can vote for their preferred candidate by entering the corresponding number. Validation: The script ensures that the entered vote is within the valid range of candidates. If an employee enters an invalid vote, the system prompts them to choose a valid candidate. Recording Votes: The script records each vote for the selected candidate and prints a confirmation message indicating that the vote has been recorded. Results Display: Once all votes are collected, the system displays the voting results, showing the number of votes each candidate received in each category. Award Winners: Based on the voting results, the HR department can identify the winners for each award category and proceed with recognizing and rewarding the selected employees during the Annual Employee Recognition Ceremony. This script provides a straightforward and transparent way for employees to participate in the recognition process, fostering a sense of engagement and community within the organization. The HR team can use the collected votes to acknowledge and appreciate the efforts of outstanding employees in various aspects of their work."
   ]
  },
  {
   "cell_type": "code",
   "execution_count": 11,
   "id": "51b65786-76d0-4bdf-b6cd-6a51b42ba8c0",
   "metadata": {},
   "outputs": [
    {
     "name": "stdin",
     "output_type": "stream",
     "text": [
      "Enter the number of voters:  6\n"
     ]
    },
    {
     "name": "stdout",
     "output_type": "stream",
     "text": [
      "1. Candidate A\n",
      "2. Candidate B\n",
      "3. Candidate C\n",
      "Press 'q' to stop voting\n"
     ]
    },
    {
     "name": "stdin",
     "output_type": "stream",
     "text": [
      "Voter 1, please choose your candidate:  1\n"
     ]
    },
    {
     "name": "stdout",
     "output_type": "stream",
     "text": [
      "1. Candidate A\n",
      "2. Candidate B\n",
      "3. Candidate C\n",
      "Press 'q' to stop voting\n"
     ]
    },
    {
     "name": "stdin",
     "output_type": "stream",
     "text": [
      "Voter 2, please choose your candidate:  1\n"
     ]
    },
    {
     "name": "stdout",
     "output_type": "stream",
     "text": [
      "1. Candidate A\n",
      "2. Candidate B\n",
      "3. Candidate C\n",
      "Press 'q' to stop voting\n"
     ]
    },
    {
     "name": "stdin",
     "output_type": "stream",
     "text": [
      "Voter 3, please choose your candidate:  2\n"
     ]
    },
    {
     "name": "stdout",
     "output_type": "stream",
     "text": [
      "1. Candidate A\n",
      "2. Candidate B\n",
      "3. Candidate C\n",
      "Press 'q' to stop voting\n"
     ]
    },
    {
     "name": "stdin",
     "output_type": "stream",
     "text": [
      "Voter 4, please choose your candidate:  3\n"
     ]
    },
    {
     "name": "stdout",
     "output_type": "stream",
     "text": [
      "1. Candidate A\n",
      "2. Candidate B\n",
      "3. Candidate C\n",
      "Press 'q' to stop voting\n"
     ]
    },
    {
     "name": "stdin",
     "output_type": "stream",
     "text": [
      "Voter 5, please choose your candidate:  1\n"
     ]
    },
    {
     "name": "stdout",
     "output_type": "stream",
     "text": [
      "1. Candidate A\n",
      "2. Candidate B\n",
      "3. Candidate C\n",
      "Press 'q' to stop voting\n"
     ]
    },
    {
     "name": "stdin",
     "output_type": "stream",
     "text": [
      "Voter 6, please choose your candidate:  q\n"
     ]
    },
    {
     "name": "stdout",
     "output_type": "stream",
     "text": [
      "Voting has been stopped.\n",
      "\n",
      "Candidate A votes: 3\n",
      "Candidate B votes: 1\n",
      "Candidate C votes: 1\n"
     ]
    }
   ],
   "source": [
    "number_vote = int(input(\"Enter the number of voters: \"))\n",
    "candidate1 = []\n",
    "candidate2 = []\n",
    "candidate3 = []\n",
    "\n",
    "for i in range(number_vote):\n",
    "    print(\"1. Candidate A\")\n",
    "    print(\"2. Candidate B\")\n",
    "    print(\"3. Candidate C\")\n",
    "    print(\"Press 'q' to stop voting\")\n",
    "\n",
    "    while True:  \n",
    "        vote_for = input(f\"Voter {i + 1}, please choose your candidate: \")\n",
    "        \n",
    "        if vote_for == '1':\n",
    "            candidate1.append(1)\n",
    "            break\n",
    "        elif vote_for == '2':\n",
    "            candidate2.append(1)\n",
    "            break\n",
    "        elif vote_for == '3':\n",
    "            candidate3.append(1)\n",
    "            break\n",
    "        elif vote_for.lower() == \"q\":\n",
    "            print(\"Voting has been stopped.\")\n",
    "            number_vote = i  \n",
    "            break\n",
    "        else:\n",
    "            print(\"Invalid input. Please enter a valid candidate number.\")\n",
    "\n",
    "    if vote_for.lower() == \"q\":\n",
    "        break\n",
    "\n",
    "\n",
    "print(f\"\\nCandidate A votes: {sum(candidate1)}\")\n",
    "print(f\"Candidate B votes: {sum(candidate2)}\")\n",
    "print(f\"Candidate C votes: {sum(candidate3)}\")"
   ]
  },
  {
   "cell_type": "code",
   "execution_count": null,
   "id": "0260295d-0683-4270-8f1e-ef9d220abe7a",
   "metadata": {},
   "outputs": [],
   "source": []
  }
 ],
 "metadata": {
  "kernelspec": {
   "display_name": "Python 3 (ipykernel)",
   "language": "python",
   "name": "python3"
  },
  "language_info": {
   "codemirror_mode": {
    "name": "ipython",
    "version": 3
   },
   "file_extension": ".py",
   "mimetype": "text/x-python",
   "name": "python",
   "nbconvert_exporter": "python",
   "pygments_lexer": "ipython3",
   "version": "3.11.7"
  }
 },
 "nbformat": 4,
 "nbformat_minor": 5
}
